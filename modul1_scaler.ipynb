{
  "nbformat": 4,
  "nbformat_minor": 0,
  "metadata": {
    "colab": {
      "provenance": [],
      "mount_file_id": "1DRcwuHQhsNWpsmHjkU3izzmSy6Pptt-S",
      "authorship_tag": "ABX9TyNId8FgKHIqt6G6PLL0NVnS",
      "include_colab_link": true
    },
    "kernelspec": {
      "name": "python3",
      "display_name": "Python 3"
    },
    "language_info": {
      "name": "python"
    }
  },
  "cells": [
    {
      "cell_type": "markdown",
      "metadata": {
        "id": "view-in-github",
        "colab_type": "text"
      },
      "source": [
        "<a href=\"https://colab.research.google.com/github/kagitliahmet/bitirme_tezim/blob/main/modul1_scaler.ipynb\" target=\"_parent\"><img src=\"https://colab.research.google.com/assets/colab-badge.svg\" alt=\"Open In Colab\"/></a>"
      ]
    },
    {
      "cell_type": "code",
      "execution_count": null,
      "metadata": {
        "id": "BXtZ1MwXBXp4"
      },
      "outputs": [],
      "source": [
        "def standar_scaler(X):\n",
        "  from sklearn.preprocessing import StandardScaler\n",
        "  scaler = StandardScaler()\n",
        "  X = scaler.fit_transform(X)\n",
        "  return X\n",
        "\n",
        "def minmax_scaler(X):\n",
        "  from sklearn.preprocessing import MinMaxScaler\n",
        "  scaler = MinMaxScaler()\n",
        "  X = scaler.fit_transform(X)\n",
        "  return X\n",
        "\n",
        "# başka başka scalerler de burada yer alacak!"
      ]
    },
    {
      "cell_type": "code",
      "source": [],
      "metadata": {
        "id": "pAfexVU5IcC8"
      },
      "execution_count": null,
      "outputs": []
    }
  ]
}